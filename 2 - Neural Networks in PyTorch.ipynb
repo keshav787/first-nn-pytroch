{
 "cells": [
  {
   "cell_type": "markdown",
   "metadata": {},
   "source": [
    "# Neural networks with PyTorch\n",
    "\n",
    "Deep learning networks tend to be massive with dozens or hundreds of layers, that's where the term \"deep\" comes from. You can build one of these deep networks using only weight matrices as we did in the previous notebook, but in general it's very cumbersome and difficult to implement. PyTorch has a nice module `nn` that provides a nice way to efficiently build large neural networks."
   ]
  },
  {
   "cell_type": "code",
   "execution_count": 1,
   "metadata": {},
   "outputs": [],
   "source": [
    "# Import necessary packages\n",
    "\n",
    "%matplotlib inline\n",
    "%config InlineBackend.figure_format = 'retina'\n",
    "\n",
    "import numpy as np\n",
    "import torch\n",
    "\n",
    "import helper\n",
    "\n",
    "import matplotlib.pyplot as plt"
   ]
  },
  {
   "cell_type": "markdown",
   "metadata": {},
   "source": [
    "\n",
    "Now we're going to build a larger network that can solve a (formerly) difficult problem, identifying text in an image. Here we'll use the MNIST dataset which consists of greyscale handwritten digits. Each image is 28x28 pixels, you can see a sample below\n",
    "\n",
    "<img src='assets/mnist.png'>\n",
    "\n",
    "Our goal is to build a neural network that can take one of these images and predict the digit in the image.\n",
    "\n",
    "First up, we need to get our dataset. This is provided through the `torchvision` package. The code below will download the MNIST dataset, then create training and test datasets for us. Don't worry too much about the details here, you'll learn more about this later."
   ]
  },
  {
   "cell_type": "code",
   "execution_count": 2,
   "metadata": {},
   "outputs": [],
   "source": [
    "### Run this cell\n",
    "\n",
    "from torchvision import datasets, transforms\n",
    "\n",
    "# Define a transform to normalize the data\n",
    "transform = transforms.Compose([transforms.ToTensor(),\n",
    "                              transforms.Normalize((0.5,), (0.5,)),\n",
    "                              ])\n",
    "\n",
    "# Download and load the training data\n",
    "trainset = datasets.MNIST('~/.pytorch/MNIST_data/', download=True, train=True, transform=transform)\n",
    "trainloader = torch.utils.data.DataLoader(trainset, batch_size=64, shuffle=True)"
   ]
  },
  {
   "cell_type": "markdown",
   "metadata": {},
   "source": [
    "We have the training data loaded into `trainloader` and we make that an iterator with `iter(trainloader)`. Later, we'll use this to loop through the dataset for training, like\n",
    "\n",
    "```python\n",
    "for image, label in trainloader:\n",
    "    ## do things with images and labels\n",
    "```\n",
    "\n",
    "You'll notice I created the `trainloader` with a batch size of 64, and `shuffle=True`. The batch size is the number of images we get in one iteration from the data loader and pass through our network, often called a *batch*. And `shuffle=True` tells it to shuffle the dataset every time we start going through the data loader again. But here I'm just grabbing the first batch so we can check out the data. We can see below that `images` is just a tensor with size `(64, 1, 28, 28)`. So, 64 images per batch, 1 color channel, and 28x28 images."
   ]
  },
  {
   "cell_type": "code",
   "execution_count": 3,
   "metadata": {},
   "outputs": [
    {
     "name": "stdout",
     "output_type": "stream",
     "text": [
      "<class 'torch.Tensor'>\n",
      "torch.Size([64, 1, 28, 28])\n",
      "torch.Size([64])\n"
     ]
    }
   ],
   "source": [
    "dataiter = iter(trainloader)\n",
    "images, labels = dataiter.next()\n",
    "print(type(images))\n",
    "print(images.shape)\n",
    "print(labels.shape)"
   ]
  },
  {
   "cell_type": "markdown",
   "metadata": {},
   "source": [
    "This is what one of the images looks like. "
   ]
  },
  {
   "cell_type": "code",
   "execution_count": 4,
   "metadata": {},
   "outputs": [
    {
     "data": {
      "image/png": "[encoded data removed]",
      "text/plain": [
       "<matplotlib.figure.Figure at 0x7f4b52c712b0>"
      ]
     },
     "metadata": {
      "image/png": {
       "height": 250,
       "width": 253
      },
      "needs_background": "light"
     },
     "output_type": "display_data"
    }
   ],
   "source": [
    "plt.imshow(images[0].numpy().squeeze(), cmap='Greys_r');"
   ]
  },
  {
   "cell_type": "markdown",
   "metadata": {},
   "source": [
    "First, let's try to build a simple network for this dataset using weight matrices and matrix multiplications. Then, we'll see how to do it using PyTorch's `nn` module which provides a much more convenient and powerful method for defining network architectures.\n",
    "\n",
    "The networks you've seen so far are called *fully-connected* or *dense* networks. Each unit in one layer is connected to each unit in the next layer. In fully-connected networks, the input to each layer must be a one-dimensional vector (which can be stacked into a 2D tensor as a batch of multiple examples). However, our images are 28x28 2D tensors, so we need to convert them into 1D vectors. Thinking about sizes, we need to convert the batch of images with shape `(64, 1, 28, 28)` to a have a shape of `(64, 784)`, 784 is 28 times 28. This is typically called *flattening*, we flattened the 2D images into 1D vectors.\n",
    "\n",
    "Previously you built a network with one output unit. Here we need 10 output units, one for each digit. We want our network to predict the digit shown in an image, so what we'll do is calculate probabilities that the image is of any one digit or class. This ends up being a discrete probability distribution over the classes (digits) that tells us the most likely class for the image. That means we need 10 output units for the 10 classes (digits). We'll see how to convert the network output into a probability distribution next.\n",
    "\n",
    "> **Exercise:** Flatten the batch of images `images`. Then build a multi-layer network with 784 input units, 256 hidden units, and 10 output units using random tensors for the weights and biases. For now, use a sigmoid activation for the hidden layer. Leave the output layer without an activation, we'll add one that gives us a probability distribution next."
   ]
  },
  {
   "cell_type": "code",
   "execution_count": 5,
   "metadata": {},
   "outputs": [],
   "source": [
    "## Your solution\n",
    "\n",
    "def activation(x):\n",
    "    return 1/(1+torch.exp(-x))\n",
    "\n",
    "# flatten input images\n",
    "inputs = images.view(images.shape[0],-1)\n",
    "\n",
    "#create params\n",
    "w1 = torch.randn(784,256)\n",
    "b1 = torch.randn(256)\n",
    "\n",
    "w2 = torch.randn(256,10)\n",
    "b2 = torch.randn(10)\n",
    "\n",
    "h = activation(torch.mm(inputs,w1) + b1)\n",
    "\n",
    "\n",
    "out = torch.mm(h,w2) + b2\n",
    "\n",
    "# output of your network, should have shape (64,10)"
   ]
  },
  {
   "cell_type": "code",
   "execution_count": 6,
   "metadata": {},
   "outputs": [
    {
     "data": {
      "text/plain": [
       "torch.Size([64, 10])"
      ]
     },
     "execution_count": 6,
     "metadata": {},
     "output_type": "execute_result"
    }
   ],
   "source": [
    "out.shape"
   ]
  },
  {
   "cell_type": "code",
   "execution_count": 7,
   "metadata": {},
   "outputs": [
    {
     "data": {
      "text/plain": [
       "tensor([[ 24.1660,   9.5155,  31.4426,  -1.5914,   3.4270,  10.5907,\n",
       "          -4.4156, -17.4185,  10.8642,  -5.9338],\n",
       "        [ 12.6550,  18.3375,  12.6696, -10.5530,   3.1758,  -2.4970,\n",
       "          -6.8920, -17.8782,   1.1734,  -7.8111],\n",
       "        [ 22.5411,  15.8589,  21.8534, -17.8315,  -4.0974,   6.8168,\n",
       "         -10.3706, -19.3392,   6.5865,  -8.6600],\n",
       "        [ 19.5300,   1.1058,  23.9921,  -9.5813,  15.2642,   3.4716,\n",
       "         -13.0206, -12.5741,  16.2017,  -4.5372],\n",
       "        [ 18.1147,  12.4604,  16.1384,  -9.7272,   3.6255,  14.7424,\n",
       "         -10.1932, -11.5735,   2.8974,   1.3267],\n",
       "        [ 26.5772,  13.6778,  16.4729, -17.7205,  16.2689,  -3.7923,\n",
       "          -6.5879, -21.4154,   5.1643, -10.1622],\n",
       "        [ 20.7575,  12.8437,  26.6509, -17.4844,   3.1903,  -3.2088,\n",
       "          -4.7783, -13.4014,  12.8963,  -1.2093],\n",
       "        [ 21.5811,   8.6891,  36.1299, -11.5021,   5.3615,   6.9816,\n",
       "          -6.0270, -21.2787,   4.9724,   4.3786],\n",
       "        [ 19.9123,   8.1544,  27.3442, -18.5451,   8.8612,   2.1465,\n",
       "          -5.7024,  -8.9822,   2.1037,  -1.4548],\n",
       "        [ 16.5677,   3.2076,  18.7108, -21.3672,   7.6054,   3.1738,\n",
       "         -13.1162, -16.5794,   1.3286,  -5.1475],\n",
       "        [ 36.5959,   1.0932,  27.9047, -15.5732,  15.9938,   8.3238,\n",
       "          -4.9257,  -7.8225,  11.6981,   5.6261],\n",
       "        [ 11.6687,   8.0725,  28.2283, -14.1692,   0.8642,  -4.1156,\n",
       "          -6.7054, -22.7654,   6.4109,  -5.5575],\n",
       "        [ 25.7369,  -0.7203,  30.7458,  -9.8775,   7.3042,   5.3105,\n",
       "         -19.1518, -16.8998,   8.0769,  -6.3308],\n",
       "        [ 15.3119,   5.2678,  22.0052,  -9.5472,   9.4473,  10.7228,\n",
       "          -6.0683, -19.6251,   7.1076, -11.0268],\n",
       "        [ 19.1865,  15.5424,  33.7407,  -6.6069,   3.8606,   3.8482,\n",
       "          -5.5054, -13.5791,  12.3009,  -2.2866],\n",
       "        [ 20.6079,  10.3357,  21.0413, -16.0761,   6.9414,  -7.5598,\n",
       "          -0.6262, -11.3195,   2.9872,  -0.9027],\n",
       "        [ 15.2258,   9.9231,  35.3770,  -7.6585,   7.5795,   5.3205,\n",
       "         -14.7059, -18.5157,   4.5450, -10.1044],\n",
       "        [ 11.3302,   1.0022,  33.1198,  -1.8160,   2.9953,   7.1189,\n",
       "          -8.8869, -11.8340,   1.4853,  -2.7205],\n",
       "        [ 20.3571,  13.6962,  34.5878,  -9.5032,  11.0792,   3.8127,\n",
       "          -3.9812, -18.6748,   8.4578, -13.9902],\n",
       "        [ 17.4369,   3.0424,  24.6631, -10.2701,   6.9952,   2.7186,\n",
       "          -7.7900, -13.0160,   9.2176, -16.4970],\n",
       "        [ 27.0957,  10.1391,  15.1196, -10.4805,  10.7982,   1.9915,\n",
       "          -5.4967, -18.1920,   7.5731,   0.9691],\n",
       "        [ 21.6687,  12.6867,  14.4716, -11.6466,   3.3164,   0.6960,\n",
       "         -11.2914, -18.5716,   6.2111,  -6.3097],\n",
       "        [ 20.7185,   9.9968,  19.4296,  -6.1471,   5.3009,   2.4528,\n",
       "          -6.1262,  -9.7189,  11.9300,  -4.0398],\n",
       "        [ 15.2550,   6.2512,  19.6309, -15.4427,   6.9797,  -6.0205,\n",
       "          -8.5695,  -8.2524,  -4.3023,  -5.4263],\n",
       "        [ 14.8480,  13.2942,  18.8010, -13.1031,   8.9771,   6.7628,\n",
       "          -5.2854, -16.1172,  14.4725,  -6.6588],\n",
       "        [ 23.8582,   6.2847,  25.8693,  -4.4765,   7.0217,   5.5230,\n",
       "         -14.4506, -20.5857,   7.7458, -13.6291],\n",
       "        [ 20.3720,   9.7262,  20.6286, -16.4898,  18.0288,   2.2717,\n",
       "         -10.8235, -17.1486,   2.3134,  -4.5323],\n",
       "        [ 15.1617,   0.1904,  19.8562, -14.3542,  12.3882,  11.8125,\n",
       "         -13.9416, -14.5798,   2.3890,   1.4309],\n",
       "        [ 14.9775,   2.0773,  27.0061,  -3.8584,   6.4470,   6.4828,\n",
       "         -10.1481, -13.0188,   1.3390, -19.2106],\n",
       "        [ 10.6630,  14.1663,  23.0181, -13.4564,   4.0614,   3.7821,\n",
       "         -10.4325, -18.8773,  11.2868,  -2.9247],\n",
       "        [  9.3798,   3.3193,  29.4729, -18.3533,   9.0849,   2.0323,\n",
       "          -8.1550, -14.1662,   1.2086,  -0.7251],\n",
       "        [  8.1568,   5.0272,  22.7678, -24.6948,  16.6624,   8.9795,\n",
       "          -5.5161, -16.3950,   3.1307,   1.1448],\n",
       "        [ 18.9937,  11.3390,  25.0373, -16.6388,   0.8105,   3.4822,\n",
       "          -0.7093,  -8.9688,  -2.3624,  -2.2987],\n",
       "        [ 14.1198,  17.1770,  27.2540, -11.2340,   4.9099,  -5.2764,\n",
       "         -10.7733, -13.7202,   8.2095,  -8.1983],\n",
       "        [ 19.3732,  10.7282,  18.1431, -13.7762,   8.6250,  -3.6732,\n",
       "          -3.0970, -28.4708,   4.9533, -11.3543],\n",
       "        [ 18.5920,  12.1203,  23.0844,  -6.1946,   5.7812,   2.8507,\n",
       "           1.4825, -14.2971,   0.0968, -11.7623],\n",
       "        [ 18.6418,   8.0710,  20.4533,  -7.1671,  13.7682,   8.5679,\n",
       "          -7.5073, -12.6624,   7.5783,  -0.4518],\n",
       "        [ 24.8400,  11.8890,  20.5448, -19.0750,  11.9283,   6.1106,\n",
       "          -5.1968, -10.8666,   2.6404,   0.8295],\n",
       "        [ 15.6532,   5.0105,  23.3918,  -5.4049,   2.1994,  12.2365,\n",
       "          -7.3111, -14.8025,   0.8339,  -6.3316],\n",
       "        [ 18.8612,   8.3991,  38.8434,  -6.5431,   3.5505,   5.4444,\n",
       "          -9.2259, -20.4286,   1.5994,  -2.3178],\n",
       "        [ 24.8536,   8.5809,  33.6772, -20.3234,   7.2487,   0.6273,\n",
       "         -13.3661, -17.3484,   9.0227,  -6.9991],\n",
       "        [ 21.6555,   5.3542,  16.4003, -16.9592,  15.1000,  16.4995,\n",
       "          -7.8467, -12.1878,   8.8629,  -8.0548],\n",
       "        [ 13.3864,   7.6195,  28.5355, -10.6590,  19.1533,   1.9416,\n",
       "           8.8420, -11.4727,   7.7575,   1.6866],\n",
       "        [ 22.3711,   5.5605,  19.3702, -16.7191,   1.8901,  -2.2008,\n",
       "          -3.6055, -18.1961,   6.6089,   2.8739],\n",
       "        [ 22.8256,   5.6388,  26.1419, -11.4934,  11.5449,   4.9092,\n",
       "           0.4381, -13.8535,   4.5591,  -4.7274],\n",
       "        [ 15.3688,   5.9172,  32.9971,  -5.8940,   7.4694,   7.5313,\n",
       "         -11.7449, -20.3095,  -0.2532, -10.5437],\n",
       "        [ 20.3957,  10.0888,  28.4120,  -5.2793,  11.6101,   6.3333,\n",
       "          -7.5302, -13.8945,  21.8889,  -3.0731],\n",
       "        [ 18.0159,  -1.2986,  31.7152,  -8.2443,   8.2975,   8.4038,\n",
       "          -7.0726, -13.3706,   6.8882,  -3.1928],\n",
       "        [ 16.4841,   3.7570,  21.6599, -11.9194,   5.8583,   7.7360,\n",
       "          -4.8039, -13.1347,   2.8930,  -5.5118],\n",
       "        [  8.2575,  12.3458,  33.2218, -13.2266,   1.4191,   6.2342,\n",
       "          -8.8082, -25.4711,   6.7049,  -7.4630],\n",
       "        [ 13.4745,  -2.2924,  28.8090, -13.5242,  21.3317,   0.3011,\n",
       "         -12.4519,  -9.2763,   8.1569,   4.9191],\n",
       "        [ 14.7469,   1.7512,  15.1727,  -4.3900,   7.0981,  12.1168,\n",
       "          -5.9011,  -9.2584,  -1.3681,  -6.5362],\n",
       "        [ 14.0387,   3.3544,  13.2553,  -3.5234,   8.5022,   7.2991,\n",
       "         -16.3264, -19.1614,   7.8546,  -8.2802],\n",
       "        [ 25.2346,   3.1697,  14.7043, -13.2680,  18.9836,  12.7665,\n",
       "          -5.4861, -19.4310,   9.4584,  -1.3242],\n",
       "        [ 19.1315,   6.8430,  24.8305,  -8.8269,   4.2799,   3.2126,\n",
       "         -12.3534, -14.2581,   5.4325,  -9.2131],\n",
       "        [ 22.2211,  -1.7560,  19.5732, -13.3255,   0.1266,  25.2722,\n",
       "         -16.1237,  -7.2160,  10.6116,  -6.6034],\n",
       "        [ 15.9671,  -0.6811,  14.5839, -12.5314,  10.5384,  10.7889,\n",
       "           1.7464, -16.4044,  -0.6095,  -4.8264],\n",
       "        [ 20.1319,   4.5806,  21.0212, -18.5461,  11.6293,   3.0584,\n",
       "         -11.7044, -14.8026,   1.5506,  -0.2601],\n",
       "        [ 20.6635,   7.7280,  27.5593,  -6.5963,   6.5026,   3.9105,\n",
       "         -16.5189, -14.6492,   6.0910,  -2.8784],\n",
       "        [ 22.2479,   5.2610,  24.4907, -15.4996,  15.9163,   5.2552,\n",
       "         -19.6135, -20.6598,   6.2460,  -1.2816],\n",
       "        [ 22.6288,   7.3900,  26.1231,  -1.3820,   1.1829,   8.0378,\n",
       "         -15.0383, -15.4312,   4.2043,  -8.3783],\n",
       "        [ 18.1184,   9.8364,  29.6725, -11.7581,   6.4714,   5.3980,\n",
       "          10.2710,  -8.1998,   1.5028,   2.2674],\n",
       "        [ 17.7579,   6.2774,  16.0136, -22.3033,  15.0279,  10.7960,\n",
       "         -10.1847, -14.6500,   5.8588,  -8.3215],\n",
       "        [ 21.0046,   4.0292,  19.5533, -14.5094,  10.7241,  -1.5885,\n",
       "         -10.2503, -14.7029,   3.4456,  -5.1998]])"
      ]
     },
     "execution_count": 7,
     "metadata": {},
     "output_type": "execute_result"
    }
   ],
   "source": [
    "out"
   ]
  },
  {
   "cell_type": "markdown",
   "metadata": {},
   "source": [
    "Now we have 10 outputs for our network. We want to pass in an image to our network and get out a probability distribution over the classes that tells us the likely class(es) the image belongs to. Something that looks like this:\n",
    "<img src='assets/image_distribution.png' width=500px>\n",
    "\n",
    "Here we see that the probability for each class is roughly the same. This is representing an untrained network, it hasn't seen any data yet so it just returns a uniform distribution with equal probabilities for each class.\n",
    "\n",
    "To calculate this probability distribution, we often use the [**softmax** function](https://en.wikipedia.org/wiki/Softmax_function). Mathematically this looks like\n",
    "\n",
    "$$\n",
    "\\Large \\sigma(x_i) = \\cfrac{e^{x_i}}{\\sum_k^K{e^{x_k}}}\n",
    "$$\n",
    "\n",
    "What this does is squish each input $x_i$ between 0 and 1 and normalizes the values to give you a proper probability distribution where the probabilites sum up to one.\n",
    "\n",
    "> **Exercise:** Implement a function `softmax` that performs the softmax calculation and returns probability distributions for each example in the batch. Note that you'll need to pay attention to the shapes when doing this. If you have a tensor `a` with shape `(64, 10)` and a tensor `b` with shape `(64,)`, doing `a/b` will give you an error because PyTorch will try to do the division across the columns (called broadcasting) but you'll get a size mismatch. The way to think about this is for each of the 64 examples, you only want to divide by one value, the sum in the denominator. So you need `b` to have a shape of `(64, 1)`. This way PyTorch will divide the 10 values in each row of `a` by the one value in each row of `b`. Pay attention to how you take the sum as well. You'll need to define the `dim` keyword in `torch.sum`. Setting `dim=0` takes the sum across the rows while `dim=1` takes the sum across the columns."
   ]
  },
  {
   "cell_type": "code",
   "execution_count": 9,
   "metadata": {},
   "outputs": [
    {
     "name": "stdout",
     "output_type": "stream",
     "text": [
      "torch.Size([64, 10])\n",
      "tensor([ 1.0000,  1.0000,  1.0000,  1.0000,  1.0000,  1.0000,  1.0000,\n",
      "         1.0000,  1.0000,  1.0000,  1.0000,  1.0000,  1.0000,  1.0000,\n",
      "         1.0000,  1.0000,  1.0000,  1.0000,  1.0000,  1.0000,  1.0000,\n",
      "         1.0000,  1.0000,  1.0000,  1.0000,  1.0000,  1.0000,  1.0000,\n",
      "         1.0000,  1.0000,  1.0000,  1.0000,  1.0000,  1.0000,  1.0000,\n",
      "         1.0000,  1.0000,  1.0000,  1.0000,  1.0000,  1.0000,  1.0000,\n",
      "         1.0000,  1.0000,  1.0000,  1.0000,  1.0000,  1.0000,  1.0000,\n",
      "         1.0000,  1.0000,  1.0000,  1.0000,  1.0000,  1.0000,  1.0000,\n",
      "         1.0000,  1.0000,  1.0000,  1.0000,  1.0000,  1.0000,  1.0000,\n",
      "         1.0000])\n"
     ]
    }
   ],
   "source": [
    "def softmax(x):\n",
    "    ## TODO: Implement the softmax function here\n",
    "    return torch.exp(x)/torch.sum(torch.exp(x), dim = 1).view(-1,1)\n",
    "    \n",
    "\n",
    "# Here, out should be the output of the network in the previous excercise with shape (64,10)\n",
    "probabilities = softmax(out)\n",
    "\n",
    "# Does it have the right shape? Should be (64, 10)\n",
    "print(probabilities.shape)\n",
    "# Does it sum to 1?\n",
    "print(probabilities.sum(dim=1))"
   ]
  },
  {
   "cell_type": "markdown",
   "metadata": {},
   "source": [
    "## Building networks with PyTorch\n",
    "\n",
    "PyTorch provides a module `nn` that makes building networks much simpler. Here I'll show you how to build the same one as above with 784 inputs, 256 hidden units, 10 output units and a softmax output."
   ]
  },
  {
   "cell_type": "code",
   "execution_count": 11,
   "metadata": {},
   "outputs": [],
   "source": [
    "from torch import nn"
   ]
  },
  {
   "cell_type": "code",
   "execution_count": 12,
   "metadata": {},
   "outputs": [],
   "source": [
    "class Network(nn.Module):\n",
    "    def __init__(self):\n",
    "        super().__init__()\n",
    "        \n",
    "        # Inputs to hidden layer linear transformation\n",
    "        self.hidden = nn.Linear(784, 256)\n",
    "        # Output layer, 10 units - one for each digit\n",
    "        self.output = nn.Linear(256, 10)\n",
    "        \n",
    "        # Define sigmoid activation and softmax output \n",
    "        self.sigmoid = nn.Sigmoid()\n",
    "        self.softmax = nn.Softmax(dim=1)\n",
    "        \n",
    "    def forward(self, x):\n",
    "        # Pass the input tensor through each of our operations\n",
    "        x = self.hidden(x)\n",
    "        x = self.sigmoid(x)\n",
    "        x = self.output(x)\n",
    "        x = self.softmax(x)\n",
    "        \n",
    "        return x"
   ]
  },
  {
   "cell_type": "markdown",
   "metadata": {},
   "source": [
    "Let's go through this bit by bit.\n",
    "\n",
    "```python\n",
    "class Network(nn.Module):\n",
    "```\n",
    "\n",
    "Here we're inheriting from `nn.Module`. Combined with `super().__init__()` this creates a class that tracks the architecture and provides a lot of useful methods and attributes. It is mandatory to inherit from `nn.Module` when you're creating a class for your network. The name of the class itself can be anything.\n",
    "\n",
    "```python\n",
    "self.hidden = nn.Linear(784, 256)\n",
    "```\n",
    "\n",
    "This line creates a module for a linear transformation, $x\\mathbf{W} + b$, with 784 inputs and 256 outputs and assigns it to `self.hidden`. The module automatically creates the weight and bias tensors which we'll use in the `forward` method. You can access the weight and bias tensors once the network (`net`) is created with `net.hidden.weight` and `net.hidden.bias`.\n",
    "\n",
    "```python\n",
    "self.output = nn.Linear(256, 10)\n",
    "```\n",
    "\n",
    "Similarly, this creates another linear transformation with 256 inputs and 10 outputs.\n",
    "\n",
    "```python\n",
    "self.sigmoid = nn.Sigmoid()\n",
    "self.softmax = nn.Softmax(dim=1)\n",
    "```\n",
    "\n",
    "Here I defined operations for the sigmoid activation and softmax output. Setting `dim=1` in `nn.Softmax(dim=1)` calculates softmax across the columns.\n",
    "\n",
    "```python\n",
    "def forward(self, x):\n",
    "```\n",
    "\n",
    "PyTorch networks created with `nn.Module` must have a `forward` method defined. It takes in a tensor `x` and passes it through the operations you defined in the `__init__` method.\n",
    "\n",
    "```python\n",
    "x = self.hidden(x)\n",
    "x = self.sigmoid(x)\n",
    "x = self.output(x)\n",
    "x = self.softmax(x)\n",
    "```\n",
    "\n",
    "Here the input tensor `x` is passed through each operation a reassigned to `x`. We can see that the input tensor goes through the hidden layer, then a sigmoid function, then the output layer, and finally the softmax function. It doesn't matter what you name the variables here, as long as the inputs and outputs of the operations match the network architecture you want to build. The order in which you define things in the `__init__` method doesn't matter, but you'll need to sequence the operations correctly in the `forward` method.\n",
    "\n",
    "Now we can create a `Network` object."
   ]
  },
  {
   "cell_type": "code",
   "execution_count": 13,
   "metadata": {},
   "outputs": [
    {
     "data": {
      "text/plain": [
       "Network(\n",
       "  (hidden): Linear(in_features=784, out_features=256, bias=True)\n",
       "  (output): Linear(in_features=256, out_features=10, bias=True)\n",
       "  (sigmoid): Sigmoid()\n",
       "  (softmax): Softmax()\n",
       ")"
      ]
     },
     "execution_count": 13,
     "metadata": {},
     "output_type": "execute_result"
    }
   ],
   "source": [
    "# Create the network and look at it's text representation\n",
    "model = Network()\n",
    "model"
   ]
  },
  {
   "cell_type": "markdown",
   "metadata": {},
   "source": [
    "You can define the network somewhat more concisely and clearly using the `torch.nn.functional` module. This is the most common way you'll see networks defined as many operations are simple element-wise functions. We normally import this module as `F`, `import torch.nn.functional as F`."
   ]
  },
  {
   "cell_type": "code",
   "execution_count": 13,
   "metadata": {},
   "outputs": [],
   "source": [
    "import torch.nn.functional as F\n",
    "\n",
    "class Network(nn.Module):\n",
    "    def __init__(self):\n",
    "        super().__init__()\n",
    "        # Inputs to hidden layer linear transformation\n",
    "        self.hidden = nn.Linear(784, 256)\n",
    "        # Output layer, 10 units - one for each digit\n",
    "        self.output = nn.Linear(256, 10)\n",
    "        \n",
    "    def forward(self, x):\n",
    "        # Hidden layer with sigmoid activation\n",
    "        x = F.sigmoid(self.hidden(x))\n",
    "        # Output layer with softmax activation\n",
    "        x = F.softmax(self.output(x), dim=1)\n",
    "        \n",
    "        return x"
   ]
  },
  {
   "cell_type": "markdown",
   "metadata": {},
   "source": [
    "### Activation functions\n",
    "\n",
    "So far we've only been looking at the softmax activation, but in general any function can be used as an activation function. The only requirement is that for a network to approximate a non-linear function, the activation functions must be non-linear. Here are a few more examples of common activation functions: Tanh (hyperbolic tangent), and ReLU (rectified linear unit).\n",
    "\n",
    "<img src=\"assets/activation.png\" width=700px>\n",
    "\n",
    "In practice, the ReLU function is used almost exclusively as the activation function for hidden layers."
   ]
  },
  {
   "cell_type": "markdown",
   "metadata": {},
   "source": [
    "### Your Turn to Build a Network\n",
    "\n",
    "<img src=\"assets/mlp_mnist.png\" width=600px>\n",
    "\n",
    "> **Exercise:** Create a network with 784 input units, a hidden layer with 128 units and a ReLU activation, then a hidden layer with 64 units and a ReLU activation, and finally an output layer with a softmax activation as shown above. You can use a ReLU activation with the `nn.ReLU` module or `F.relu` function."
   ]
  },
  {
   "cell_type": "code",
   "execution_count": 17,
   "metadata": {
    "scrolled": true
   },
   "outputs": [
    {
     "data": {
      "text/plain": [
       "Network(\n",
       "  (fc1): Linear(in_features=784, out_features=128, bias=True)\n",
       "  (fc2): Linear(in_features=128, out_features=64, bias=True)\n",
       "  (fc3): Linear(in_features=64, out_features=10, bias=True)\n",
       ")"
      ]
     },
     "execution_count": 17,
     "metadata": {},
     "output_type": "execute_result"
    }
   ],
   "source": [
    "## Your solution here\n",
    "import torch.nn.functional as F\n",
    "\n",
    "class Network(nn.Module):\n",
    "    def __init__(self):\n",
    "        super().__init__()\n",
    "        # Inputs to hidden layer transformation\n",
    "        self.fc1 = nn.Linear(784,128)\n",
    "        self.fc2 = nn.Linear(128,64)\n",
    "        # Output layer, 10 units - one for each digit\n",
    "        self.fc3 = nn.Linear(64,10)\n",
    "    \n",
    "    def forward(self,x):\n",
    "        # Hidden layer with ReLu activation\n",
    "        x = self.fc1(x)\n",
    "        x = F.relu(x)\n",
    "        x = self.fc2(x)\n",
    "        x = F.relu(x)\n",
    "        \n",
    "        \n",
    "    \n",
    "        \n",
    "        \n",
    "        # Output layer with Softmax activation\n",
    "        \n",
    "        x = self.fc3(x)\n",
    "        x = F.softmax(x, dim=1)\n",
    "        \n",
    "        return x\n",
    "    \n",
    "model = Network()\n",
    "model"
   ]
  },
  {
   "cell_type": "code",
   "execution_count": 18,
   "metadata": {},
   "outputs": [
    {
     "name": "stdout",
     "output_type": "stream",
     "text": [
      "Parameter containing:\n",
      "tensor([[ 8.4493e-04, -9.0212e-03, -1.0085e-02,  ...,  9.3390e-03,\n",
      "         -1.6990e-02, -1.9611e-02],\n",
      "        [-4.6278e-03,  2.8844e-02,  9.0450e-05,  ..., -2.8056e-02,\n",
      "          1.0936e-02,  1.7353e-02],\n",
      "        [ 2.7438e-02, -2.8101e-02,  3.0992e-02,  ...,  2.4477e-02,\n",
      "         -2.1394e-02, -3.3141e-03],\n",
      "        ...,\n",
      "        [ 6.2510e-06,  3.1235e-02,  5.7619e-03,  ...,  5.4644e-03,\n",
      "         -2.3162e-02, -3.2108e-02],\n",
      "        [ 3.2786e-02,  3.4199e-02, -2.8652e-02,  ..., -1.0809e-03,\n",
      "         -1.6117e-02,  2.4069e-02],\n",
      "        [ 2.0465e-02, -3.5624e-02,  2.4864e-02,  ..., -2.3686e-03,\n",
      "         -1.0993e-02, -2.2864e-02]])\n",
      "Parameter containing:\n",
      "tensor(1.00000e-02 *\n",
      "       [ 2.8190, -1.5500,  0.9402,  2.9431,  2.1170, -1.9531,  0.2678,\n",
      "         1.8860,  0.2988,  0.3719, -2.0695, -0.6719,  0.2944, -3.2115,\n",
      "         2.1328, -2.7242, -1.5671,  0.9051, -3.1099, -0.0310, -1.8805,\n",
      "        -3.4438, -0.9760, -0.1896,  0.6090, -0.2436,  2.9885,  3.0189,\n",
      "        -0.1475,  2.7005, -0.9403,  2.1774, -0.8417, -1.9356,  2.2163,\n",
      "        -0.3066, -0.8517, -1.9308,  2.8313, -2.0881, -0.0771, -0.4741,\n",
      "        -0.7572, -2.8471,  2.2359,  1.6203, -3.0727, -1.0213, -3.1956,\n",
      "         2.0543,  2.3481,  0.7541,  3.0006,  3.3515, -0.3811, -2.4060,\n",
      "        -3.2568, -3.4249,  0.5863,  0.0047,  0.1474, -0.0473,  1.0166,\n",
      "        -3.1044,  2.0144,  1.8076, -0.6488, -3.2252,  0.4693, -0.9854,\n",
      "        -2.9209, -2.2018, -0.3310, -3.0576,  0.8800,  0.6865,  1.9970,\n",
      "         2.7085,  3.5005,  3.5375,  0.1872, -1.0621, -1.2078,  2.7644,\n",
      "         1.3077, -0.9466,  2.0594, -2.6541,  2.9342, -2.8655,  1.9085,\n",
      "        -1.7093,  1.8820, -1.4544,  2.8826, -1.8432, -1.5660, -3.4233,\n",
      "         0.9519, -1.8676, -0.8208, -0.5378,  2.1001,  2.6511, -2.5114,\n",
      "        -2.6357, -3.4880,  3.3768, -0.1593, -0.8262,  1.6180, -0.5031,\n",
      "         2.6006, -0.6806, -3.4927,  2.8427, -3.2298,  1.0693, -2.2125,\n",
      "         3.5364,  2.0026,  1.0617,  3.0783, -3.3928, -1.9392,  1.6889,\n",
      "        -1.6846, -1.4061])\n"
     ]
    }
   ],
   "source": [
    "print(model.fc1.weight)\n",
    "print(model.fc1.bias)"
   ]
  },
  {
   "cell_type": "markdown",
   "metadata": {},
   "source": [
    "For custom initialization, we want to modify these tensors in place. These are actually autograd *Variables*, so we need to get back the actual tensors with `model.fc1.weight.data`. Once we have the tensors, we can fill them with zeros (for biases) or random normal values."
   ]
  },
  {
   "cell_type": "code",
   "execution_count": null,
   "metadata": {
    "collapsed": true
   },
   "outputs": [],
   "source": [
    "# Set biases to all zeros\n",
    "model.fc1.bias.data.fill_(0)"
   ]
  },
  {
   "cell_type": "code",
   "execution_count": null,
   "metadata": {
    "collapsed": true
   },
   "outputs": [],
   "source": [
    "# sample from random normal with standard dev = 0.01\n",
    "model.fc1.weight.data.normal_(std=0.01)"
   ]
  },
  {
   "cell_type": "markdown",
   "metadata": {},
   "source": [
    "### Forward pass\n",
    "\n",
    "Now that we have a network, let's see what happens when we pass in an image."
   ]
  },
  {
   "cell_type": "code",
   "execution_count": 19,
   "metadata": {},
   "outputs": [
    {
     "data": {
      "image/png": "[encoded data removed]",
      "text/plain": [
       "<matplotlib.figure.Figure at 0x7f4b4d83e4e0>"
      ]
     },
     "metadata": {
      "image/png": {
       "height": 224,
       "width": 423
      },
      "needs_background": "light"
     },
     "output_type": "display_data"
    }
   ],
   "source": [
    "# Grab some data \n",
    "dataiter = iter(trainloader)\n",
    "images, labels = dataiter.next()\n",
    "\n",
    "# Resize images into a 1D vector, new shape is (batch size, color channels, image pixels) \n",
    "images.resize_(64, 1, 784)\n",
    "# or images.resize_(images.shape[0], 1, 784) to automatically get batch size\n",
    "\n",
    "# Forward pass through the network\n",
    "img_idx = 0\n",
    "ps = model.forward(images[img_idx,:])\n",
    "\n",
    "img = images[img_idx]\n",
    "helper.view_classify(img.view(1, 28, 28), ps)"
   ]
  },
  {
   "cell_type": "markdown",
   "metadata": {},
   "source": [
    "As you can see above, our network has basically no idea what this digit is. It's because we haven't trained it yet, all the weights are random!\n",
    "\n",
    "### Using `nn.Sequential`\n",
    "\n",
    "PyTorch provides a convenient way to build networks like this where a tensor is passed sequentially through operations, `nn.Sequential` ([documentation](https://pytorch.org/docs/master/nn.html#torch.nn.Sequential)). Using this to build the equivalent network:"
   ]
  },
  {
   "cell_type": "code",
   "execution_count": 20,
   "metadata": {},
   "outputs": [
    {
     "name": "stdout",
     "output_type": "stream",
     "text": [
      "Sequential(\n",
      "  (0): Linear(in_features=784, out_features=128, bias=True)\n",
      "  (1): ReLU()\n",
      "  (2): Linear(in_features=128, out_features=64, bias=True)\n",
      "  (3): ReLU()\n",
      "  (4): Linear(in_features=64, out_features=10, bias=True)\n",
      "  (5): Softmax()\n",
      ")\n"
     ]
    },
    {
     "data": {
      "image/png": "[encoded data removed]",
      "text/plain": [
       "<matplotlib.figure.Figure at 0x7f4af0b9dda0>"
      ]
     },
     "metadata": {
      "image/png": {
       "height": 224,
       "width": 423
      },
      "needs_background": "light"
     },
     "output_type": "display_data"
    }
   ],
   "source": [
    "# Hyperparameters for our network\n",
    "input_size = 784\n",
    "hidden_sizes = [128, 64]\n",
    "output_size = 10\n",
    "\n",
    "# Build a feed-forward network\n",
    "model = nn.Sequential(nn.Linear(input_size, hidden_sizes[0]),\n",
    "                      nn.ReLU(),\n",
    "                      nn.Linear(hidden_sizes[0], hidden_sizes[1]),\n",
    "                      nn.ReLU(),\n",
    "                      nn.Linear(hidden_sizes[1], output_size),\n",
    "                      nn.Softmax(dim=1))\n",
    "print(model)\n",
    "\n",
    "# Forward pass through the network and display output\n",
    "images, labels = next(iter(trainloader))\n",
    "images.resize_(images.shape[0], 1, 784)\n",
    "ps = model.forward(images[0,:])\n",
    "helper.view_classify(images[0].view(1, 28, 28), ps)"
   ]
  },
  {
   "cell_type": "markdown",
   "metadata": {},
   "source": [
    "Here our model is the same as before: 784 input units, a hidden layer with 128 units, ReLU activation, 64 unit hidden layer, another ReLU, then the output layer with 10 units, and the softmax output.\n",
    "\n",
    "The operations are availble by passing in the appropriate index. For example, if you want to get first Linear operation and look at the weights, you'd use `model[0]`."
   ]
  },
  {
   "cell_type": "code",
   "execution_count": 21,
   "metadata": {},
   "outputs": [
    {
     "name": "stdout",
     "output_type": "stream",
     "text": [
      "Linear(in_features=784, out_features=128, bias=True)\n"
     ]
    },
    {
     "data": {
      "text/plain": [
       "Parameter containing:\n",
       "tensor([[-9.2070e-03,  4.9337e-03,  2.2303e-02,  ..., -1.6964e-02,\n",
       "         -2.1447e-02, -3.4262e-02],\n",
       "        [-1.3899e-02, -8.3045e-03, -1.6814e-02,  ..., -1.2676e-02,\n",
       "         -4.9515e-03,  7.1741e-03],\n",
       "        [ 3.2800e-02,  3.1699e-02, -5.4612e-03,  ...,  3.2296e-02,\n",
       "          6.6290e-04, -1.0162e-02],\n",
       "        ...,\n",
       "        [ 2.5238e-02, -1.1647e-02,  9.5279e-03,  ...,  1.0379e-02,\n",
       "         -2.2932e-02, -2.0498e-02],\n",
       "        [ 1.5331e-03, -3.4082e-02,  1.4614e-02,  ...,  1.5073e-02,\n",
       "         -1.0495e-02, -2.3847e-02],\n",
       "        [ 2.1408e-03, -6.1146e-03, -5.5090e-03,  ..., -1.9210e-03,\n",
       "          1.4509e-03,  7.1815e-04]])"
      ]
     },
     "execution_count": 21,
     "metadata": {},
     "output_type": "execute_result"
    }
   ],
   "source": [
    "print(model[0])\n",
    "model[0].weight"
   ]
  },
  {
   "cell_type": "markdown",
   "metadata": {},
   "source": [
    "You can also pass in an `OrderedDict` to name the individual layers and operations, instead of using incremental integers. Note that dictionary keys must be unique, so _each operation must have a different name_."
   ]
  },
  {
   "cell_type": "code",
   "execution_count": 22,
   "metadata": {},
   "outputs": [
    {
     "data": {
      "text/plain": [
       "Sequential(\n",
       "  (fc1): Linear(in_features=784, out_features=128, bias=True)\n",
       "  (relu1): ReLU()\n",
       "  (fc2): Linear(in_features=128, out_features=64, bias=True)\n",
       "  (relu2): ReLU()\n",
       "  (output): Linear(in_features=64, out_features=10, bias=True)\n",
       "  (softmax): Softmax()\n",
       ")"
      ]
     },
     "execution_count": 22,
     "metadata": {},
     "output_type": "execute_result"
    }
   ],
   "source": [
    "from collections import OrderedDict\n",
    "model = nn.Sequential(OrderedDict([\n",
    "                      ('fc1', nn.Linear(input_size, hidden_sizes[0])),\n",
    "                      ('relu1', nn.ReLU()),\n",
    "                      ('fc2', nn.Linear(hidden_sizes[0], hidden_sizes[1])),\n",
    "                      ('relu2', nn.ReLU()),\n",
    "                      ('output', nn.Linear(hidden_sizes[1], output_size)),\n",
    "                      ('softmax', nn.Softmax(dim=1))]))\n",
    "model"
   ]
  },
  {
   "cell_type": "markdown",
   "metadata": {},
   "source": [
    "Now you can access layers either by integer or the name"
   ]
  },
  {
   "cell_type": "code",
   "execution_count": 23,
   "metadata": {},
   "outputs": [
    {
     "name": "stdout",
     "output_type": "stream",
     "text": [
      "Linear(in_features=784, out_features=128, bias=True)\n",
      "Linear(in_features=784, out_features=128, bias=True)\n"
     ]
    }
   ],
   "source": [
    "print(model[0])\n",
    "print(model.fc1)"
   ]
  },
  {
   "cell_type": "markdown",
   "metadata": {},
   "source": [
    "In the next notebook, we'll see how we can train a neural network to accuractly predict the numbers appearing in the MNIST images."
   ]
  },
  {
   "cell_type": "code",
   "execution_count": null,
   "metadata": {},
   "outputs": [],
   "source": []
  }
 ],
 "metadata": {
  "kernelspec": {
   "display_name": "Python 3",
   "language": "python",
   "name": "python3"
  },
  "language_info": {
   "codemirror_mode": {
    "name": "ipython",
    "version": 3
   },
   "file_extension": ".py",
   "mimetype": "text/x-python",
   "name": "python",
   "nbconvert_exporter": "python",
   "pygments_lexer": "ipython3",
   "version": "3.6.3"
  }
 },
 "nbformat": 4,
 "nbformat_minor": 2
}
